{
 "cells": [
  {
   "cell_type": "markdown",
   "id": "541b32a2",
   "metadata": {},
   "source": [
    "### Importando arquivos CSV"
   ]
  },
  {
   "cell_type": "code",
   "execution_count": null,
   "id": "50b5e0ef",
   "metadata": {},
   "outputs": [],
   "source": [
    "import pandas as pd# importing the pandas library\n",
    "\n",
    "#importing the data\n",
    "arquivo = \"dados/arquivo_csv_virgula.csv\" #path to the file\n",
    "#pd.read_csv(arquivo) #reading the file"
   ]
  },
  {
   "cell_type": "code",
   "execution_count": 13,
   "id": "b1ddfc61",
   "metadata": {},
   "outputs": [
    {
     "data": {
      "text/html": [
       "<div>\n",
       "<style scoped>\n",
       "    .dataframe tbody tr th:only-of-type {\n",
       "        vertical-align: middle;\n",
       "    }\n",
       "\n",
       "    .dataframe tbody tr th {\n",
       "        vertical-align: top;\n",
       "    }\n",
       "\n",
       "    .dataframe thead th {\n",
       "        text-align: right;\n",
       "    }\n",
       "</style>\n",
       "<table border=\"1\" class=\"dataframe\">\n",
       "  <thead>\n",
       "    <tr style=\"text-align: right;\">\n",
       "      <th></th>\n",
       "      <th>Nome Completo</th>\n",
       "      <th>Idade</th>\n",
       "      <th>Renda Mensal</th>\n",
       "      <th>Sexo</th>\n",
       "      <th>Cidade</th>\n",
       "      <th>Estado</th>\n",
       "      <th>Data de Nascimento</th>\n",
       "    </tr>\n",
       "  </thead>\n",
       "  <tbody>\n",
       "    <tr>\n",
       "      <th>0</th>\n",
       "      <td>João da Silva</td>\n",
       "      <td>54</td>\n",
       "      <td>2.270</td>\n",
       "      <td>Feminino</td>\n",
       "      <td>São Paulo</td>\n",
       "      <td>SP</td>\n",
       "      <td>1970-06-15 22:19:00.037648</td>\n",
       "    </tr>\n",
       "    <tr>\n",
       "      <th>1</th>\n",
       "      <td>Maria Oliveira</td>\n",
       "      <td>80</td>\n",
       "      <td>5.147</td>\n",
       "      <td>Masculino</td>\n",
       "      <td>Rio de Janeiro</td>\n",
       "      <td>RJ</td>\n",
       "      <td>1944-06-15 10:19:00.037648</td>\n",
       "    </tr>\n",
       "    <tr>\n",
       "      <th>2</th>\n",
       "      <td>Pedro Santos</td>\n",
       "      <td>46</td>\n",
       "      <td>8.657</td>\n",
       "      <td>Masculino</td>\n",
       "      <td>Belo Horizonte</td>\n",
       "      <td>MG</td>\n",
       "      <td>1978-06-15 22:19:00.037648</td>\n",
       "    </tr>\n",
       "    <tr>\n",
       "      <th>3</th>\n",
       "      <td>Ana Costa</td>\n",
       "      <td>30</td>\n",
       "      <td>5.026</td>\n",
       "      <td>Feminino</td>\n",
       "      <td>Salvador</td>\n",
       "      <td>BA</td>\n",
       "      <td>1994-06-15 22:19:00.037648</td>\n",
       "    </tr>\n",
       "    <tr>\n",
       "      <th>4</th>\n",
       "      <td>Lucas Pereira</td>\n",
       "      <td>39</td>\n",
       "      <td>4.128</td>\n",
       "      <td>Masculino</td>\n",
       "      <td>Curitiba</td>\n",
       "      <td>PR</td>\n",
       "      <td>1985-06-15 16:19:00.037648</td>\n",
       "    </tr>\n",
       "  </tbody>\n",
       "</table>\n",
       "</div>"
      ],
      "text/plain": [
       "    Nome Completo  Idade  Renda Mensal       Sexo          Cidade Estado  \\\n",
       "0   João da Silva     54         2.270   Feminino       São Paulo     SP   \n",
       "1  Maria Oliveira     80         5.147  Masculino  Rio de Janeiro     RJ   \n",
       "2    Pedro Santos     46         8.657  Masculino  Belo Horizonte     MG   \n",
       "3       Ana Costa     30         5.026   Feminino        Salvador     BA   \n",
       "4   Lucas Pereira     39         4.128  Masculino        Curitiba     PR   \n",
       "\n",
       "           Data de Nascimento  \n",
       "0  1970-06-15 22:19:00.037648  \n",
       "1  1944-06-15 10:19:00.037648  \n",
       "2  1978-06-15 22:19:00.037648  \n",
       "3  1994-06-15 22:19:00.037648  \n",
       "4  1985-06-15 16:19:00.037648  "
      ]
     },
     "execution_count": 13,
     "metadata": {},
     "output_type": "execute_result"
    }
   ],
   "source": [
    "funcionario = pd.read_csv(arquivo)# reading the file\n",
    "funcionario.head() #showing the first 5 lines of the file"
   ]
  },
  {
   "cell_type": "code",
   "execution_count": 14,
   "id": "caac54d0",
   "metadata": {},
   "outputs": [
    {
     "data": {
      "text/plain": [
       "Nome Completo          object\n",
       "Idade                   int64\n",
       "Renda Mensal          float64\n",
       "Sexo                   object\n",
       "Cidade                 object\n",
       "Estado                 object\n",
       "Data de Nascimento     object\n",
       "dtype: object"
      ]
     },
     "execution_count": 14,
     "metadata": {},
     "output_type": "execute_result"
    }
   ],
   "source": [
    "funcionario.dtypes #showing the data types of the columns"
   ]
  }
 ],
 "metadata": {
  "kernelspec": {
   "display_name": "venv2",
   "language": "python",
   "name": "python3"
  },
  "language_info": {
   "codemirror_mode": {
    "name": "ipython",
    "version": 3
   },
   "file_extension": ".py",
   "mimetype": "text/x-python",
   "name": "python",
   "nbconvert_exporter": "python",
   "pygments_lexer": "ipython3",
   "version": "3.13.3"
  }
 },
 "nbformat": 4,
 "nbformat_minor": 5
}
