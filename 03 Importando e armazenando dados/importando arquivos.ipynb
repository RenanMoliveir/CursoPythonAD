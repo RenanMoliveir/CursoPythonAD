{
 "cells": [
  {
   "cell_type": "markdown",
   "id": "3403cc49",
   "metadata": {},
   "source": [
    "### Importando arquivos"
   ]
  },
  {
   "cell_type": "code",
   "execution_count": 1,
   "id": "f237f6e3",
   "metadata": {},
   "outputs": [],
   "source": [
    "#importing csv file\n",
    "import pandas as pd"
   ]
  },
  {
   "cell_type": "code",
   "execution_count": 3,
   "id": "0124b5fa",
   "metadata": {},
   "outputs": [
    {
     "data": {
      "text/html": [
       "<div>\n",
       "<style scoped>\n",
       "    .dataframe tbody tr th:only-of-type {\n",
       "        vertical-align: middle;\n",
       "    }\n",
       "\n",
       "    .dataframe tbody tr th {\n",
       "        vertical-align: top;\n",
       "    }\n",
       "\n",
       "    .dataframe thead th {\n",
       "        text-align: right;\n",
       "    }\n",
       "</style>\n",
       "<table border=\"1\" class=\"dataframe\">\n",
       "  <thead>\n",
       "    <tr style=\"text-align: right;\">\n",
       "      <th></th>\n",
       "      <th>Nome</th>\n",
       "      <th>Idade</th>\n",
       "      <th>Curso</th>\n",
       "    </tr>\n",
       "  </thead>\n",
       "  <tbody>\n",
       "    <tr>\n",
       "      <th>0</th>\n",
       "      <td>João</td>\n",
       "      <td>22</td>\n",
       "      <td>Enfermagem</td>\n",
       "    </tr>\n",
       "    <tr>\n",
       "      <th>1</th>\n",
       "      <td>Maria</td>\n",
       "      <td>25</td>\n",
       "      <td>Biomedicina</td>\n",
       "    </tr>\n",
       "    <tr>\n",
       "      <th>2</th>\n",
       "      <td>Ana</td>\n",
       "      <td>20</td>\n",
       "      <td>Farmácia</td>\n",
       "    </tr>\n",
       "    <tr>\n",
       "      <th>3</th>\n",
       "      <td>Carlos</td>\n",
       "      <td>23</td>\n",
       "      <td>Medicina</td>\n",
       "    </tr>\n",
       "  </tbody>\n",
       "</table>\n",
       "</div>"
      ],
      "text/plain": [
       "     Nome  Idade        Curso\n",
       "0    João     22   Enfermagem\n",
       "1   Maria     25  Biomedicina\n",
       "2     Ana     20     Farmácia\n",
       "3  Carlos     23     Medicina"
      ]
     },
     "execution_count": 3,
     "metadata": {},
     "output_type": "execute_result"
    }
   ],
   "source": [
    "csv_file = 'dados/alunos.csv'\n",
    "alunos = pd.read_csv(csv_file)\n",
    "alunos.head()"
   ]
  },
  {
   "cell_type": "code",
   "execution_count": 4,
   "id": "f86aa46e",
   "metadata": {},
   "outputs": [
    {
     "data": {
      "text/plain": [
       "Nome     object\n",
       "Idade     int64\n",
       "Curso    object\n",
       "dtype: object"
      ]
     },
     "execution_count": 4,
     "metadata": {},
     "output_type": "execute_result"
    }
   ],
   "source": [
    "#verificando o tipo de dado\n",
    "alunos.dtypes"
   ]
  },
  {
   "cell_type": "code",
   "execution_count": null,
   "id": "4eb58be7",
   "metadata": {},
   "outputs": [],
   "source": []
  }
 ],
 "metadata": {
  "kernelspec": {
   "display_name": "venv2",
   "language": "python",
   "name": "python3"
  },
  "language_info": {
   "codemirror_mode": {
    "name": "ipython",
    "version": 3
   },
   "file_extension": ".py",
   "mimetype": "text/x-python",
   "name": "python",
   "nbconvert_exporter": "python",
   "pygments_lexer": "ipython3",
   "version": "3.13.3"
  }
 },
 "nbformat": 4,
 "nbformat_minor": 5
}
