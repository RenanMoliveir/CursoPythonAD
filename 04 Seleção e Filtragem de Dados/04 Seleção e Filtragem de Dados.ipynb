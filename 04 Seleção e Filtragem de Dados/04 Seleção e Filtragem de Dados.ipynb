{
 "cells": [
  {
   "cell_type": "code",
   "execution_count": 9,
   "id": "08531c61",
   "metadata": {},
   "outputs": [],
   "source": [
    "#importing pandas\n",
    "import pandas as pd"
   ]
  },
  {
   "cell_type": "code",
   "execution_count": 12,
   "id": "a456b748",
   "metadata": {},
   "outputs": [],
   "source": [
    "#importing folder path\n",
    "caminho_arquivos = \"dados/TargetSales/\""
   ]
  },
  {
   "cell_type": "code",
   "execution_count": null,
   "id": "6068697c",
   "metadata": {},
   "outputs": [],
   "source": [
    "#importing datasets\n",
    "customers = pd.read_csv(f\"{caminho_arquivos}customers.csv\")\n",
    "geolocation = pd.read_csv(f\"{caminho_arquivos}geolocation.csv\")\n",
    "order_items = pd.read_csv(f\"{caminho_arquivos}order_items.csv\")\n",
    "orders = pd.read_csv(f\"{caminho_arquivos}orders.csv\")\n",
    "payments = pd.read_csv(f\"{caminho_arquivos}payments.csv\")\n",
    "products = pd.read_csv(f\"{caminho_arquivos}products.csv\")\n",
    "sellers = pd.read_csv(f\"{caminho_arquivos}sellers.csv\")"
   ]
  }
 ],
 "metadata": {
  "kernelspec": {
   "display_name": "venv2",
   "language": "python",
   "name": "python3"
  },
  "language_info": {
   "codemirror_mode": {
    "name": "ipython",
    "version": 3
   },
   "file_extension": ".py",
   "mimetype": "text/x-python",
   "name": "python",
   "nbconvert_exporter": "python",
   "pygments_lexer": "ipython3",
   "version": "3.13.3"
  }
 },
 "nbformat": 4,
 "nbformat_minor": 5
}
